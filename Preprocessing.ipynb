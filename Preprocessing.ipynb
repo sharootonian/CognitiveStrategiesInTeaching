{
 "cells": [
  {
   "cell_type": "code",
   "execution_count": 1,
   "metadata": {},
   "outputs": [],
   "source": [
    "import pandas as pd\n",
    "import numpy as np"
   ]
  },
  {
   "cell_type": "code",
   "source": "\"\"\"\n========================================================\nAuthor: Sevan Harootonian\nAffiliation: Princeton University\n========================================================\n\"\"\"",
   "metadata": {},
   "execution_count": null,
   "outputs": []
  },
  {
   "cell_type": "code",
   "execution_count": null,
   "metadata": {},
   "outputs": [
    {
     "name": "stderr",
     "output_type": "stream",
     "text": [
      "c:\\Users\\skh\\Documents\\git\\CognitiveStrategiesInTeaching_clean\\functions\\preprocessing.py:133: FutureWarning: Setting an item of incompatible dtype is deprecated and will raise an error in a future version of pandas. Value '00mun7kzbqxdsyyw0uh1wfet' has dtype incompatible with int64, please explicitly cast to a compatible dtype first.\n",
      "  preprocessed_subj.loc[i,'subjectId'] = data_subj.loc[i,'subjectId']\n",
      "c:\\Users\\skh\\Documents\\git\\CognitiveStrategiesInTeaching_clean\\functions\\preprocessing.py:134: FutureWarning: Setting an item of incompatible dtype is deprecated and will raise an error in a future version of pandas. Value 's0' has dtype incompatible with int64, please explicitly cast to a compatible dtype first.\n",
      "  preprocessed_subj.loc[i,'subjID'] = data_subj.loc[i,'subjID']\n",
      "c:\\Users\\skh\\Documents\\git\\CognitiveStrategiesInTeaching_clean\\functions\\preprocessing.py:138: FutureWarning: Setting an item of incompatible dtype is deprecated and will raise an error in a future version of pandas. Value '1_32816305' has dtype incompatible with int64, please explicitly cast to a compatible dtype first.\n",
      "  preprocessed_subj.loc[i,'trialtype'] = str(int(data_subj.loc[i,'flipped']=='TRUE'))+'_'+str(int(data_subj.loc[i,'seed']))\n",
      "c:\\Users\\skh\\Documents\\git\\CognitiveStrategiesInTeaching_clean\\functions\\preprocessing.py:140: FutureWarning: Setting an item of incompatible dtype is deprecated and will raise an error in a future version of pandas. Value 'TRUE' has dtype incompatible with int64, please explicitly cast to a compatible dtype first.\n",
      "  preprocessed_subj.at[i,'flipped'] = data_subj.loc[i,'flipped']\n",
      "c:\\Users\\skh\\Documents\\git\\CognitiveStrategiesInTeaching_clean\\functions\\preprocessing.py:142: FutureWarning: Setting an item of incompatible dtype is deprecated and will raise an error in a future version of pandas. Value '-0.19647173057399178' has dtype incompatible with int64, please explicitly cast to a compatible dtype first.\n",
      "  preprocessed_subj.loc[i,'edgeRT_zscore'] = (np.float64(data_subj.loc[i, 'edgeRT']) - (data_subj['edgeRT'].astype(float).mean())) / (data_subj['edgeRT'].astype(float).std())\n",
      "c:\\Users\\skh\\Documents\\git\\CognitiveStrategiesInTeaching_clean\\functions\\preprocessing.py:143: FutureWarning: Setting an item of incompatible dtype is deprecated and will raise an error in a future version of pandas. Value '8.571491964823617' has dtype incompatible with int64, please explicitly cast to a compatible dtype first.\n",
      "  preprocessed_subj.loc[i,'edgeRT_log'] = np.log(np.float64(data_subj.loc[i,'edgeRT']))\n",
      "c:\\Users\\skh\\Documents\\git\\CognitiveStrategiesInTeaching_clean\\functions\\preprocessing.py:144: FutureWarning: Setting an item of incompatible dtype is deprecated and will raise an error in a future version of pandas. Value '-0.219934621881674' has dtype incompatible with int64, please explicitly cast to a compatible dtype first.\n",
      "  preprocessed_subj.loc[i,'edgeRT_log_zscore'] = (np.log(np.float64(data_subj.loc[i,'edgeRT'])) - np.log((data_subj['edgeRT'].astype(float)).mean())) / np.log(data_subj['edgeRT'].astype(float)).std()\n",
      "c:\\Users\\skh\\Documents\\git\\CognitiveStrategiesInTeaching_clean\\functions\\preprocessing.py:146: FutureWarning: Setting an item of incompatible dtype is deprecated and will raise an error in a future version of pandas. Value '[{\"edgeSelection\":\"6to8\",\"edgeRTMS\":5279}]' has dtype incompatible with int64, please explicitly cast to a compatible dtype first.\n",
      "  preprocessed_subj.loc[i,'edgeClickLog'] = data_subj.loc[i,'edgeClickLog']\n"
     ]
    }
   ],
   "source": [
    "# Exp 1\n",
    "from functions.preprocessing import preprocessing\n",
    "\n",
    "trialSetup = pd.read_csv(\"data/tasksetup/exp1_trialsetup.csv\")\n",
    "simdata = pd.DataFrame(pd.read_pickle('data/sim/exp1/exp1_modelsim.pickle'))\n",
    "RAW_DIR=\"data/raw/exp1\"\n",
    "[preprocessed, bonus, task_dur, debrief_q, debrief] = preprocessing(trialSetup,simdata,RAW_DIR)\n",
    "\n",
    "# save preprocessed data\n",
    "import pickle\n",
    "preprocessed.to_pickle('data/preprocessed/exp1/preprocessed_exp1.pkl')\n",
    "# with open('data/preprocessed/exp1/bonus_exp1.pkl', 'wb') as f:\n",
    "#     pickle.dump(bonus, f)"
   ]
  },
  {
   "cell_type": "code",
   "execution_count": null,
   "metadata": {},
   "outputs": [
    {
     "name": "stderr",
     "output_type": "stream",
     "text": [
      "c:\\Users\\skh\\Documents\\git\\CognitiveStrategiesInTeaching_clean\\functions\\preprocessing.py:304: FutureWarning: Setting an item of incompatible dtype is deprecated and will raise an error in a future version of pandas. Value '05oale1to23ejlvzpe0c39ir' has dtype incompatible with int64, please explicitly cast to a compatible dtype first.\n",
      "  preprocessed_subj.loc[i,'subjectId'] = data_subj.loc[i,'subjectId']\n",
      "c:\\Users\\skh\\Documents\\git\\CognitiveStrategiesInTeaching_clean\\functions\\preprocessing.py:305: FutureWarning: Setting an item of incompatible dtype is deprecated and will raise an error in a future version of pandas. Value 's0' has dtype incompatible with int64, please explicitly cast to a compatible dtype first.\n",
      "  preprocessed_subj.loc[i,'subjID'] = data_subj.loc[i,'subjID']\n",
      "c:\\Users\\skh\\Documents\\git\\CognitiveStrategiesInTeaching_clean\\functions\\preprocessing.py:308: FutureWarning: Setting an item of incompatible dtype is deprecated and will raise an error in a future version of pandas. Value 'C' has dtype incompatible with int64, please explicitly cast to a compatible dtype first.\n",
      "  preprocessed_subj.loc[i,'congruency'] = data_subj.congruency[i]\n",
      "c:\\Users\\skh\\Documents\\git\\CognitiveStrategiesInTeaching_clean\\functions\\preprocessing.py:309: FutureWarning: Setting an item of incompatible dtype is deprecated and will raise an error in a future version of pandas. Value 'cong_0' has dtype incompatible with int64, please explicitly cast to a compatible dtype first.\n",
      "  preprocessed_subj.loc[i,'trial_id'] = data_subj.trial_id[i]\n",
      "c:\\Users\\skh\\Documents\\git\\CognitiveStrategiesInTeaching_clean\\functions\\preprocessing.py:310: FutureWarning: Setting an item of incompatible dtype is deprecated and will raise an error in a future version of pandas. Value 'training' has dtype incompatible with int64, please explicitly cast to a compatible dtype first.\n",
      "  preprocessed_subj.loc[i,'block'] = \"test\" if data_subj.trial_id[i].startswith('test') else \"training\"\n",
      "c:\\Users\\skh\\Documents\\git\\CognitiveStrategiesInTeaching_clean\\functions\\preprocessing.py:312: FutureWarning: Setting an item of incompatible dtype is deprecated and will raise an error in a future version of pandas. Value 'False' has dtype incompatible with int64, please explicitly cast to a compatible dtype first.\n",
      "  preprocessed_subj.at[i,'flipped'] = data_subj.loc[i,'flipped']\n",
      "c:\\Users\\skh\\Documents\\git\\CognitiveStrategiesInTeaching_clean\\functions\\preprocessing.py:314: FutureWarning: Setting an item of incompatible dtype is deprecated and will raise an error in a future version of pandas. Value '1.178190969070451' has dtype incompatible with int64, please explicitly cast to a compatible dtype first.\n",
      "  preprocessed_subj.loc[i,'edgeRT_zscore'] = (np.float64(data_subj.loc[i, 'edgeRT']) - (data_subj['edgeRT'].astype(float).mean())) / (data_subj['edgeRT'].astype(float).std())\n",
      "c:\\Users\\skh\\Documents\\git\\CognitiveStrategiesInTeaching_clean\\functions\\preprocessing.py:315: FutureWarning: Setting an item of incompatible dtype is deprecated and will raise an error in a future version of pandas. Value '9.055205875026193' has dtype incompatible with int64, please explicitly cast to a compatible dtype first.\n",
      "  preprocessed_subj.loc[i,'edgeRT_log'] = np.log(np.float64(data_subj.loc[i,'edgeRT']))\n",
      "c:\\Users\\skh\\Documents\\git\\CognitiveStrategiesInTeaching_clean\\functions\\preprocessing.py:316: FutureWarning: Setting an item of incompatible dtype is deprecated and will raise an error in a future version of pandas. Value '0.9321675610977211' has dtype incompatible with int64, please explicitly cast to a compatible dtype first.\n",
      "  preprocessed_subj.loc[i,'edgeRT_log_zscore'] = (np.log(np.float64(data_subj.loc[i,'edgeRT'])) - np.log((data_subj['edgeRT'].astype(float)).mean())) / np.log(data_subj['edgeRT'].astype(float)).std()\n",
      "c:\\Users\\skh\\Documents\\git\\CognitiveStrategiesInTeaching_clean\\functions\\preprocessing.py:318: FutureWarning: Setting an item of incompatible dtype is deprecated and will raise an error in a future version of pandas. Value 'false' has dtype incompatible with int64, please explicitly cast to a compatible dtype first.\n",
      "  preprocessed_subj.loc[i,'skip'] = data_subj.loc[i,'skip']\n",
      "c:\\Users\\skh\\Documents\\git\\CognitiveStrategiesInTeaching_clean\\functions\\preprocessing.py:319: FutureWarning: Setting an item of incompatible dtype is deprecated and will raise an error in a future version of pandas. Value '[{\"edgeSelection\":\"0to1\",\"edgeRTMS\":1157},{\"edgeSelection\":\"1to4\",\"edgeRTMS\":3638},{\"edgeSelection\":\"4to7\",\"edgeRTMS\":5311},{\"edgeSelection\":\"1to4\",\"edgeRTMS\":6353},{\"edgeSelection\":\"4to7\",\"edgeRTMS\":7226},{\"edgeSelection\":\"1to4\",\"edgeRTMS\":8563}]' has dtype incompatible with int64, please explicitly cast to a compatible dtype first.\n",
      "  preprocessed_subj.loc[i,'edgeClickLog'] = data_subj.loc[i,'edgeClickLog']\n",
      "c:\\Users\\skh\\Documents\\git\\CognitiveStrategiesInTeaching_clean\\functions\\preprocessing.py:325: FutureWarning: Setting an item of incompatible dtype is deprecated and will raise an error in a future version of pandas. Value 'CI' has dtype incompatible with int64, please explicitly cast to a compatible dtype first.\n",
      "  preprocessed_subj.at[i,'group'] = 'CI'\n"
     ]
    }
   ],
   "source": [
    "# Exp 2\n",
    "from functions.preprocessing import preprocessing_exp2\n",
    "\n",
    "simdata_exp2 = pd.DataFrame(pd.read_pickle('data/sim/exp2/exp2_modelsim.pickle'))\n",
    "RAW_DIR=\"data/raw/exp2/\"\n",
    "[preprocessed, bonus, task_dur, debrief_q, debrief] = preprocessing_exp2(simdata_exp2,RAW_DIR)\n",
    "\n",
    "# save preprocessed data\n",
    "import pickle\n",
    "preprocessed.to_pickle('data/preprocessed/exp2/preprocessed_exp2.pkl')\n",
    "with open('data/preprocessed/exp2/bonus_exp2.pkl', 'wb') as f:\n",
    "    pickle.dump(bonus, f)"
   ]
  },
  {
   "cell_type": "code",
   "execution_count": null,
   "metadata": {},
   "outputs": [
    {
     "name": "stderr",
     "output_type": "stream",
     "text": [
      "c:\\Users\\skh\\Documents\\git\\CognitiveStrategiesInTeaching_clean\\functions\\preprocessing.py:508: FutureWarning: Setting an item of incompatible dtype is deprecated and will raise an error in a future version of pandas. Value '004vlq6tplh667lhirgy5pil' has dtype incompatible with int64, please explicitly cast to a compatible dtype first.\n",
      "  preprocessed_subj.loc[i,'subjectId'] = data_subj.loc[i,'subjectId']\n",
      "c:\\Users\\skh\\Documents\\git\\CognitiveStrategiesInTeaching_clean\\functions\\preprocessing.py:509: FutureWarning: Setting an item of incompatible dtype is deprecated and will raise an error in a future version of pandas. Value 's0' has dtype incompatible with int64, please explicitly cast to a compatible dtype first.\n",
      "  preprocessed_subj.loc[i,'subjID'] = data_subj.loc[i,'subjID']\n",
      "c:\\Users\\skh\\Documents\\git\\CognitiveStrategiesInTeaching_clean\\functions\\preprocessing.py:512: FutureWarning: Setting an item of incompatible dtype is deprecated and will raise an error in a future version of pandas. Value 'I' has dtype incompatible with int64, please explicitly cast to a compatible dtype first.\n",
      "  preprocessed_subj.loc[i,'congruency'] = data_subj.congruency[i]\n",
      "c:\\Users\\skh\\Documents\\git\\CognitiveStrategiesInTeaching_clean\\functions\\preprocessing.py:513: FutureWarning: Setting an item of incompatible dtype is deprecated and will raise an error in a future version of pandas. Value 'normal' has dtype incompatible with int64, please explicitly cast to a compatible dtype first.\n",
      "  preprocessed_subj.loc[i,'condition'] = data_subj.condition[i]\n",
      "c:\\Users\\skh\\Documents\\git\\CognitiveStrategiesInTeaching_clean\\functions\\preprocessing.py:514: FutureWarning: Setting an item of incompatible dtype is deprecated and will raise an error in a future version of pandas. Value 'incong_0' has dtype incompatible with int64, please explicitly cast to a compatible dtype first.\n",
      "  preprocessed_subj.loc[i,'trial_id'] = data_subj.trial_id[i]\n",
      "c:\\Users\\skh\\Documents\\git\\CognitiveStrategiesInTeaching_clean\\functions\\preprocessing.py:525: FutureWarning: Setting an item of incompatible dtype is deprecated and will raise an error in a future version of pandas. Value '1to5' has dtype incompatible with int64, please explicitly cast to a compatible dtype first.\n",
      "  preprocessed_subj.loc[i,'trial_group'] = data_subj.trial_group[i]\n",
      "c:\\Users\\skh\\Documents\\git\\CognitiveStrategiesInTeaching_clean\\functions\\preprocessing.py:526: FutureWarning: Setting an item of incompatible dtype is deprecated and will raise an error in a future version of pandas. Value 'training' has dtype incompatible with int64, please explicitly cast to a compatible dtype first.\n",
      "  preprocessed_subj.loc[i,'block'] = \"test\" if data_subj.trial_id[i].startswith('test') else \"training\"\n",
      "c:\\Users\\skh\\Documents\\git\\CognitiveStrategiesInTeaching_clean\\functions\\preprocessing.py:528: FutureWarning: Setting an item of incompatible dtype is deprecated and will raise an error in a future version of pandas. Value 'FALSE' has dtype incompatible with int64, please explicitly cast to a compatible dtype first.\n",
      "  preprocessed_subj.at[i,'flipped'] = data_subj.loc[i,'flipped']\n",
      "c:\\Users\\skh\\Documents\\git\\CognitiveStrategiesInTeaching_clean\\functions\\preprocessing.py:531: FutureWarning: Setting an item of incompatible dtype is deprecated and will raise an error in a future version of pandas. Value '1.8709135450070533' has dtype incompatible with int64, please explicitly cast to a compatible dtype first.\n",
      "  preprocessed_subj.loc[i,'edgeRT_zscore'] = (np.float64(data_subj.loc[i, 'edgeRT']) - (data_subj['edgeRT'].astype(float).mean())) / (data_subj['edgeRT'].astype(float).std())\n",
      "c:\\Users\\skh\\Documents\\git\\CognitiveStrategiesInTeaching_clean\\functions\\preprocessing.py:532: FutureWarning: Setting an item of incompatible dtype is deprecated and will raise an error in a future version of pandas. Value '10.252946523854552' has dtype incompatible with int64, please explicitly cast to a compatible dtype first.\n",
      "  preprocessed_subj.loc[i,'edgeRT_log'] = np.log(np.float64(data_subj.loc[i,'edgeRT']))\n",
      "c:\\Users\\skh\\Documents\\git\\CognitiveStrategiesInTeaching_clean\\functions\\preprocessing.py:533: FutureWarning: Setting an item of incompatible dtype is deprecated and will raise an error in a future version of pandas. Value '1.2138075274600661' has dtype incompatible with int64, please explicitly cast to a compatible dtype first.\n",
      "  preprocessed_subj.loc[i,'edgeRT_log_zscore'] = (np.log(np.float64(data_subj.loc[i,'edgeRT'])) - np.log((data_subj['edgeRT'].astype(float)).mean())) / np.log(data_subj['edgeRT'].astype(float)).std()\n",
      "c:\\Users\\skh\\Documents\\git\\CognitiveStrategiesInTeaching_clean\\functions\\preprocessing.py:535: FutureWarning: Setting an item of incompatible dtype is deprecated and will raise an error in a future version of pandas. Value 'false' has dtype incompatible with int64, please explicitly cast to a compatible dtype first.\n",
      "  preprocessed_subj.loc[i,'skip'] = data_subj.loc[i,'skip']\n",
      "c:\\Users\\skh\\Documents\\git\\CognitiveStrategiesInTeaching_clean\\functions\\preprocessing.py:536: FutureWarning: Setting an item of incompatible dtype is deprecated and will raise an error in a future version of pandas. Value '[{\"edgeSelection\":\"2to4\",\"edgeRTMS\":5366},{\"edgeSelection\":\"0to2\",\"edgeRTMS\":17108},{\"edgeSelection\":\"0to1\",\"edgeRTMS\":28366}]' has dtype incompatible with int64, please explicitly cast to a compatible dtype first.\n",
      "  preprocessed_subj.loc[i,'edgeClickLog'] = data_subj.loc[i,'edgeClickLog']\n",
      "c:\\Users\\skh\\Documents\\git\\CognitiveStrategiesInTeaching_clean\\functions\\preprocessing.py:567: FutureWarning: Setting an item of incompatible dtype is deprecated and will raise an error in a future version of pandas. Value 'II' has dtype incompatible with int64, please explicitly cast to a compatible dtype first.\n",
      "  preprocessed_subj.at[i,'group'] = 'II'\n",
      "c:\\Users\\skh\\Documents\\git\\CognitiveStrategiesInTeaching_clean\\functions\\preprocessing.py:550: FutureWarning: Setting an item of incompatible dtype is deprecated and will raise an error in a future version of pandas. Value '[{\"edgeSelection\":\"1to4\",\"edgeRTMS\":12910},{\"edgeSelection\":\"2to4\",\"edgeRTMS\":22420},{\"edgeSelection\":\"3to5\",\"edgeRTMS\":26908}]' has dtype incompatible with float64, please explicitly cast to a compatible dtype first.\n",
      "  preprocessed_subj.loc[i,'inference_edgeClickLog'] = data_subj.loc[i,'inference_edgeClickLog']\n",
      "c:\\Users\\skh\\Documents\\git\\CognitiveStrategiesInTeaching_clean\\functions\\preprocessing.py:551: FutureWarning: Setting an item of incompatible dtype is deprecated and will raise an error in a future version of pandas. Value 'training' has dtype incompatible with float64, please explicitly cast to a compatible dtype first.\n",
      "  preprocessed_subj.loc[i,'inference_edgeClickNum'] = len(eval(data_subj.loc[i,'inference_edgeClickLog'])) if data_subj.trial_id[i].startswith('test') else \"training\"\n"
     ]
    }
   ],
   "source": [
    "# Exp 3 \n",
    "from functions.preprocessing import preprocessing_exp3\n",
    "\n",
    "simdata_exp3 = pd.DataFrame(pd.read_pickle('data/sim/exp3/exp3_modelsim.pickle'))\n",
    "\n",
    "# raw data directory \n",
    "RAW_DIR=\"data/raw/exp3/\"\n",
    "[preprocessed, bonus, task_dur, debrief_q, debrief] = preprocessing_exp3(simdata_exp3,RAW_DIR)\n",
    "\n",
    "# save preprocessed data\n",
    "import pickle\n",
    "preprocessed.to_pickle('data/preprocessed/exp3/preprocessed_exp3.pkl')\n",
    "with open('data/preprocessed/exp3/bonus_exp3.pkl', 'wb') as f:\n",
    "    pickle.dump(bonus, f)\n",
    "    \n",
    "for_R = preprocessed[preprocessed.block == \"test\" ].loc[:,['subjID','group','condition','edge_normresp_U_obm','edge']]\n",
    "for_R.to_csv('data/preprocessed/exp3/exp3data_forR.csv', index=False)"
   ]
  }
 ],
 "metadata": {
  "kernelspec": {
   "display_name": "llm_env",
   "language": "python",
   "name": "python3"
  },
  "language_info": {
   "codemirror_mode": {
    "name": "ipython",
    "version": 3
   },
   "file_extension": ".py",
   "mimetype": "text/x-python",
   "name": "python",
   "nbconvert_exporter": "python",
   "pygments_lexer": "ipython3",
   "version": "3.11.2"
  }
 },
 "nbformat": 4,
 "nbformat_minor": 2
}